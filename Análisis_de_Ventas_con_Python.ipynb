{
  "nbformat": 4,
  "nbformat_minor": 0,
  "metadata": {
    "colab": {
      "provenance": [],
      "authorship_tag": "ABX9TyPy4qDBpc+Uda0F9vM/Oaid",
      "include_colab_link": true
    },
    "kernelspec": {
      "name": "python3",
      "display_name": "Python 3"
    },
    "language_info": {
      "name": "python"
    }
  },
  "cells": [
    {
      "cell_type": "markdown",
      "metadata": {
        "id": "view-in-github",
        "colab_type": "text"
      },
      "source": [
        "<a href=\"https://colab.research.google.com/github/cyluck3/data_analysis/blob/main/An%C3%A1lisis_de_Ventas_con_Python.ipynb\" target=\"_parent\"><img src=\"https://colab.research.google.com/assets/colab-badge.svg\" alt=\"Open In Colab\"/></a>"
      ]
    },
    {
      "cell_type": "code",
      "execution_count": 1,
      "metadata": {
        "colab": {
          "base_uri": "https://localhost:8080/"
        },
        "id": "irg2oZgSLDSx",
        "outputId": "c1e45300-737b-42fa-ebbc-679a54b38d6d"
      },
      "outputs": [
        {
          "output_type": "stream",
          "name": "stdout",
          "text": [
            "Librerías importadas correctamente.\n"
          ]
        }
      ],
      "source": [
        "import pandas as pd\n",
        "import numpy as np\n",
        "import matplotlib.pyplot as plt\n",
        "import seaborn as sns\n",
        "\n",
        "print(\"Librerías importadas correctamente.\")"
      ]
    },
    {
      "cell_type": "code",
      "source": [
        "data = {\n",
        "    'ID_Transaccion': [1001, 1002, 1003, 1004, 1005, 1006, 1007, 1008],\n",
        "    'ID_Producto': ['P001', 'P002', 'P001', 'P003', 'P002', 'P004', 'P001', 'P003'],\n",
        "    'Nombre_Producto': ['Camisa', 'Pantalón', 'Camisa', 'Zapatos', 'Pantalón', 'Calcetines', 'Camisa', 'Zapatos'],\n",
        "    'Cantidad': [2, 1, 3, 1, 2, 5, 1, 1],\n",
        "    'Precio_Unitario': [25.50, 45.00, 25.50, 60.00, 45.00, 8.00, 25.50, 60.00],\n",
        "    'Fecha_Venta': ['2024-01-05', '2024-01-05', '2024-01-06', '2024-01-07', '2024-01-08', '2024-01-08', '2024-01-09', '2024-01-10'],\n",
        "    'Pais': ['España', 'España', 'México', 'Argentina', 'Chile', 'España', 'México', 'Argentina'],\n",
        "    'Metodo_Pago': ['Tarjeta', 'Efectivo', 'Tarjeta', 'Transferencia', 'Tarjeta', 'Efectivo', 'Tarjeta', 'Transferencia']\n",
        "}\n"
      ],
      "metadata": {
        "id": "RpGCFUtVh0bQ"
      },
      "execution_count": 2,
      "outputs": []
    },
    {
      "cell_type": "code",
      "source": [
        "# DataFrame\n",
        "df = pd.DataFrame(data)\n",
        "\n",
        "print(\"Dataset de ejemplo creado exitosamente. Las primeras 5 filas son:\")\n",
        "print(df.head())"
      ],
      "metadata": {
        "colab": {
          "base_uri": "https://localhost:8080/"
        },
        "id": "byQq_PV_PDoS",
        "outputId": "a8bf5e86-571c-4868-c144-5b28ab9c40b7"
      },
      "execution_count": 3,
      "outputs": [
        {
          "output_type": "stream",
          "name": "stdout",
          "text": [
            "Dataset de ejemplo creado exitosamente. Las primeras 5 filas son:\n",
            "   ID_Transaccion ID_Producto Nombre_Producto  Cantidad  Precio_Unitario  \\\n",
            "0            1001        P001          Camisa         2             25.5   \n",
            "1            1002        P002        Pantalón         1             45.0   \n",
            "2            1003        P001          Camisa         3             25.5   \n",
            "3            1004        P003         Zapatos         1             60.0   \n",
            "4            1005        P002        Pantalón         2             45.0   \n",
            "\n",
            "  Fecha_Venta       Pais    Metodo_Pago  \n",
            "0  2024-01-05     España        Tarjeta  \n",
            "1  2024-01-05     España       Efectivo  \n",
            "2  2024-01-06     México        Tarjeta  \n",
            "3  2024-01-07  Argentina  Transferencia  \n",
            "4  2024-01-08      Chile        Tarjeta  \n"
          ]
        }
      ]
    },
    {
      "cell_type": "code",
      "source": [
        "df.info()\n",
        "\n",
        "df.describe()"
      ],
      "metadata": {
        "colab": {
          "base_uri": "https://localhost:8080/",
          "height": 561
        },
        "id": "SquxliG0j06b",
        "outputId": "66dd5674-6d75-4925-a3a5-c79b84d5cdde"
      },
      "execution_count": 4,
      "outputs": [
        {
          "output_type": "stream",
          "name": "stdout",
          "text": [
            "<class 'pandas.core.frame.DataFrame'>\n",
            "RangeIndex: 8 entries, 0 to 7\n",
            "Data columns (total 8 columns):\n",
            " #   Column           Non-Null Count  Dtype  \n",
            "---  ------           --------------  -----  \n",
            " 0   ID_Transaccion   8 non-null      int64  \n",
            " 1   ID_Producto      8 non-null      object \n",
            " 2   Nombre_Producto  8 non-null      object \n",
            " 3   Cantidad         8 non-null      int64  \n",
            " 4   Precio_Unitario  8 non-null      float64\n",
            " 5   Fecha_Venta      8 non-null      object \n",
            " 6   Pais             8 non-null      object \n",
            " 7   Metodo_Pago      8 non-null      object \n",
            "dtypes: float64(1), int64(2), object(5)\n",
            "memory usage: 644.0+ bytes\n"
          ]
        },
        {
          "output_type": "execute_result",
          "data": {
            "text/plain": [
              "       ID_Transaccion  Cantidad  Precio_Unitario\n",
              "count         8.00000  8.000000         8.000000\n",
              "mean       1004.50000  2.000000        36.812500\n",
              "std           2.44949  1.414214        18.606714\n",
              "min        1001.00000  1.000000         8.000000\n",
              "25%        1002.75000  1.000000        25.500000\n",
              "50%        1004.50000  1.500000        35.250000\n",
              "75%        1006.25000  2.250000        48.750000\n",
              "max        1008.00000  5.000000        60.000000"
            ],
            "text/html": [
              "\n",
              "  <div id=\"df-14777b01-faf5-44f1-8727-50ea4e0ca63e\" class=\"colab-df-container\">\n",
              "    <div>\n",
              "<style scoped>\n",
              "    .dataframe tbody tr th:only-of-type {\n",
              "        vertical-align: middle;\n",
              "    }\n",
              "\n",
              "    .dataframe tbody tr th {\n",
              "        vertical-align: top;\n",
              "    }\n",
              "\n",
              "    .dataframe thead th {\n",
              "        text-align: right;\n",
              "    }\n",
              "</style>\n",
              "<table border=\"1\" class=\"dataframe\">\n",
              "  <thead>\n",
              "    <tr style=\"text-align: right;\">\n",
              "      <th></th>\n",
              "      <th>ID_Transaccion</th>\n",
              "      <th>Cantidad</th>\n",
              "      <th>Precio_Unitario</th>\n",
              "    </tr>\n",
              "  </thead>\n",
              "  <tbody>\n",
              "    <tr>\n",
              "      <th>count</th>\n",
              "      <td>8.00000</td>\n",
              "      <td>8.000000</td>\n",
              "      <td>8.000000</td>\n",
              "    </tr>\n",
              "    <tr>\n",
              "      <th>mean</th>\n",
              "      <td>1004.50000</td>\n",
              "      <td>2.000000</td>\n",
              "      <td>36.812500</td>\n",
              "    </tr>\n",
              "    <tr>\n",
              "      <th>std</th>\n",
              "      <td>2.44949</td>\n",
              "      <td>1.414214</td>\n",
              "      <td>18.606714</td>\n",
              "    </tr>\n",
              "    <tr>\n",
              "      <th>min</th>\n",
              "      <td>1001.00000</td>\n",
              "      <td>1.000000</td>\n",
              "      <td>8.000000</td>\n",
              "    </tr>\n",
              "    <tr>\n",
              "      <th>25%</th>\n",
              "      <td>1002.75000</td>\n",
              "      <td>1.000000</td>\n",
              "      <td>25.500000</td>\n",
              "    </tr>\n",
              "    <tr>\n",
              "      <th>50%</th>\n",
              "      <td>1004.50000</td>\n",
              "      <td>1.500000</td>\n",
              "      <td>35.250000</td>\n",
              "    </tr>\n",
              "    <tr>\n",
              "      <th>75%</th>\n",
              "      <td>1006.25000</td>\n",
              "      <td>2.250000</td>\n",
              "      <td>48.750000</td>\n",
              "    </tr>\n",
              "    <tr>\n",
              "      <th>max</th>\n",
              "      <td>1008.00000</td>\n",
              "      <td>5.000000</td>\n",
              "      <td>60.000000</td>\n",
              "    </tr>\n",
              "  </tbody>\n",
              "</table>\n",
              "</div>\n",
              "    <div class=\"colab-df-buttons\">\n",
              "\n",
              "  <div class=\"colab-df-container\">\n",
              "    <button class=\"colab-df-convert\" onclick=\"convertToInteractive('df-14777b01-faf5-44f1-8727-50ea4e0ca63e')\"\n",
              "            title=\"Convert this dataframe to an interactive table.\"\n",
              "            style=\"display:none;\">\n",
              "\n",
              "  <svg xmlns=\"http://www.w3.org/2000/svg\" height=\"24px\" viewBox=\"0 -960 960 960\">\n",
              "    <path d=\"M120-120v-720h720v720H120Zm60-500h600v-160H180v160Zm220 220h160v-160H400v160Zm0 220h160v-160H400v160ZM180-400h160v-160H180v160Zm440 0h160v-160H620v160ZM180-180h160v-160H180v160Zm440 0h160v-160H620v160Z\"/>\n",
              "  </svg>\n",
              "    </button>\n",
              "\n",
              "  <style>\n",
              "    .colab-df-container {\n",
              "      display:flex;\n",
              "      gap: 12px;\n",
              "    }\n",
              "\n",
              "    .colab-df-convert {\n",
              "      background-color: #E8F0FE;\n",
              "      border: none;\n",
              "      border-radius: 50%;\n",
              "      cursor: pointer;\n",
              "      display: none;\n",
              "      fill: #1967D2;\n",
              "      height: 32px;\n",
              "      padding: 0 0 0 0;\n",
              "      width: 32px;\n",
              "    }\n",
              "\n",
              "    .colab-df-convert:hover {\n",
              "      background-color: #E2EBFA;\n",
              "      box-shadow: 0px 1px 2px rgba(60, 64, 67, 0.3), 0px 1px 3px 1px rgba(60, 64, 67, 0.15);\n",
              "      fill: #174EA6;\n",
              "    }\n",
              "\n",
              "    .colab-df-buttons div {\n",
              "      margin-bottom: 4px;\n",
              "    }\n",
              "\n",
              "    [theme=dark] .colab-df-convert {\n",
              "      background-color: #3B4455;\n",
              "      fill: #D2E3FC;\n",
              "    }\n",
              "\n",
              "    [theme=dark] .colab-df-convert:hover {\n",
              "      background-color: #434B5C;\n",
              "      box-shadow: 0px 1px 3px 1px rgba(0, 0, 0, 0.15);\n",
              "      filter: drop-shadow(0px 1px 2px rgba(0, 0, 0, 0.3));\n",
              "      fill: #FFFFFF;\n",
              "    }\n",
              "  </style>\n",
              "\n",
              "    <script>\n",
              "      const buttonEl =\n",
              "        document.querySelector('#df-14777b01-faf5-44f1-8727-50ea4e0ca63e button.colab-df-convert');\n",
              "      buttonEl.style.display =\n",
              "        google.colab.kernel.accessAllowed ? 'block' : 'none';\n",
              "\n",
              "      async function convertToInteractive(key) {\n",
              "        const element = document.querySelector('#df-14777b01-faf5-44f1-8727-50ea4e0ca63e');\n",
              "        const dataTable =\n",
              "          await google.colab.kernel.invokeFunction('convertToInteractive',\n",
              "                                                    [key], {});\n",
              "        if (!dataTable) return;\n",
              "\n",
              "        const docLinkHtml = 'Like what you see? Visit the ' +\n",
              "          '<a target=\"_blank\" href=https://colab.research.google.com/notebooks/data_table.ipynb>data table notebook</a>'\n",
              "          + ' to learn more about interactive tables.';\n",
              "        element.innerHTML = '';\n",
              "        dataTable['output_type'] = 'display_data';\n",
              "        await google.colab.output.renderOutput(dataTable, element);\n",
              "        const docLink = document.createElement('div');\n",
              "        docLink.innerHTML = docLinkHtml;\n",
              "        element.appendChild(docLink);\n",
              "      }\n",
              "    </script>\n",
              "  </div>\n",
              "\n",
              "\n",
              "    <div id=\"df-e4739b16-1659-431e-aa70-bcab77fc8d2f\">\n",
              "      <button class=\"colab-df-quickchart\" onclick=\"quickchart('df-e4739b16-1659-431e-aa70-bcab77fc8d2f')\"\n",
              "                title=\"Suggest charts\"\n",
              "                style=\"display:none;\">\n",
              "\n",
              "<svg xmlns=\"http://www.w3.org/2000/svg\" height=\"24px\"viewBox=\"0 0 24 24\"\n",
              "     width=\"24px\">\n",
              "    <g>\n",
              "        <path d=\"M19 3H5c-1.1 0-2 .9-2 2v14c0 1.1.9 2 2 2h14c1.1 0 2-.9 2-2V5c0-1.1-.9-2-2-2zM9 17H7v-7h2v7zm4 0h-2V7h2v10zm4 0h-2v-4h2v4z\"/>\n",
              "    </g>\n",
              "</svg>\n",
              "      </button>\n",
              "\n",
              "<style>\n",
              "  .colab-df-quickchart {\n",
              "      --bg-color: #E8F0FE;\n",
              "      --fill-color: #1967D2;\n",
              "      --hover-bg-color: #E2EBFA;\n",
              "      --hover-fill-color: #174EA6;\n",
              "      --disabled-fill-color: #AAA;\n",
              "      --disabled-bg-color: #DDD;\n",
              "  }\n",
              "\n",
              "  [theme=dark] .colab-df-quickchart {\n",
              "      --bg-color: #3B4455;\n",
              "      --fill-color: #D2E3FC;\n",
              "      --hover-bg-color: #434B5C;\n",
              "      --hover-fill-color: #FFFFFF;\n",
              "      --disabled-bg-color: #3B4455;\n",
              "      --disabled-fill-color: #666;\n",
              "  }\n",
              "\n",
              "  .colab-df-quickchart {\n",
              "    background-color: var(--bg-color);\n",
              "    border: none;\n",
              "    border-radius: 50%;\n",
              "    cursor: pointer;\n",
              "    display: none;\n",
              "    fill: var(--fill-color);\n",
              "    height: 32px;\n",
              "    padding: 0;\n",
              "    width: 32px;\n",
              "  }\n",
              "\n",
              "  .colab-df-quickchart:hover {\n",
              "    background-color: var(--hover-bg-color);\n",
              "    box-shadow: 0 1px 2px rgba(60, 64, 67, 0.3), 0 1px 3px 1px rgba(60, 64, 67, 0.15);\n",
              "    fill: var(--button-hover-fill-color);\n",
              "  }\n",
              "\n",
              "  .colab-df-quickchart-complete:disabled,\n",
              "  .colab-df-quickchart-complete:disabled:hover {\n",
              "    background-color: var(--disabled-bg-color);\n",
              "    fill: var(--disabled-fill-color);\n",
              "    box-shadow: none;\n",
              "  }\n",
              "\n",
              "  .colab-df-spinner {\n",
              "    border: 2px solid var(--fill-color);\n",
              "    border-color: transparent;\n",
              "    border-bottom-color: var(--fill-color);\n",
              "    animation:\n",
              "      spin 1s steps(1) infinite;\n",
              "  }\n",
              "\n",
              "  @keyframes spin {\n",
              "    0% {\n",
              "      border-color: transparent;\n",
              "      border-bottom-color: var(--fill-color);\n",
              "      border-left-color: var(--fill-color);\n",
              "    }\n",
              "    20% {\n",
              "      border-color: transparent;\n",
              "      border-left-color: var(--fill-color);\n",
              "      border-top-color: var(--fill-color);\n",
              "    }\n",
              "    30% {\n",
              "      border-color: transparent;\n",
              "      border-left-color: var(--fill-color);\n",
              "      border-top-color: var(--fill-color);\n",
              "      border-right-color: var(--fill-color);\n",
              "    }\n",
              "    40% {\n",
              "      border-color: transparent;\n",
              "      border-right-color: var(--fill-color);\n",
              "      border-top-color: var(--fill-color);\n",
              "    }\n",
              "    60% {\n",
              "      border-color: transparent;\n",
              "      border-right-color: var(--fill-color);\n",
              "    }\n",
              "    80% {\n",
              "      border-color: transparent;\n",
              "      border-right-color: var(--fill-color);\n",
              "      border-bottom-color: var(--fill-color);\n",
              "    }\n",
              "    90% {\n",
              "      border-color: transparent;\n",
              "      border-bottom-color: var(--fill-color);\n",
              "    }\n",
              "  }\n",
              "</style>\n",
              "\n",
              "      <script>\n",
              "        async function quickchart(key) {\n",
              "          const quickchartButtonEl =\n",
              "            document.querySelector('#' + key + ' button');\n",
              "          quickchartButtonEl.disabled = true;  // To prevent multiple clicks.\n",
              "          quickchartButtonEl.classList.add('colab-df-spinner');\n",
              "          try {\n",
              "            const charts = await google.colab.kernel.invokeFunction(\n",
              "                'suggestCharts', [key], {});\n",
              "          } catch (error) {\n",
              "            console.error('Error during call to suggestCharts:', error);\n",
              "          }\n",
              "          quickchartButtonEl.classList.remove('colab-df-spinner');\n",
              "          quickchartButtonEl.classList.add('colab-df-quickchart-complete');\n",
              "        }\n",
              "        (() => {\n",
              "          let quickchartButtonEl =\n",
              "            document.querySelector('#df-e4739b16-1659-431e-aa70-bcab77fc8d2f button');\n",
              "          quickchartButtonEl.style.display =\n",
              "            google.colab.kernel.accessAllowed ? 'block' : 'none';\n",
              "        })();\n",
              "      </script>\n",
              "    </div>\n",
              "\n",
              "    </div>\n",
              "  </div>\n"
            ],
            "application/vnd.google.colaboratory.intrinsic+json": {
              "type": "dataframe",
              "summary": "{\n  \"name\": \"df\",\n  \"rows\": 8,\n  \"fields\": [\n    {\n      \"column\": \"ID_Transaccion\",\n      \"properties\": {\n        \"dtype\": \"number\",\n        \"std\": 462.58166573984937,\n        \"min\": 2.449489742783178,\n        \"max\": 1008.0,\n        \"num_unique_values\": 7,\n        \"samples\": [\n          8.0,\n          1004.5,\n          1006.25\n        ],\n        \"semantic_type\": \"\",\n        \"description\": \"\"\n      }\n    },\n    {\n      \"column\": \"Cantidad\",\n      \"properties\": {\n        \"dtype\": \"number\",\n        \"std\": 2.4757669704901426,\n        \"min\": 1.0,\n        \"max\": 8.0,\n        \"num_unique_values\": 7,\n        \"samples\": [\n          8.0,\n          2.0,\n          2.25\n        ],\n        \"semantic_type\": \"\",\n        \"description\": \"\"\n      }\n    },\n    {\n      \"column\": \"Precio_Unitario\",\n      \"properties\": {\n        \"dtype\": \"number\",\n        \"std\": 18.683401698576013,\n        \"min\": 8.0,\n        \"max\": 60.0,\n        \"num_unique_values\": 7,\n        \"samples\": [\n          8.0,\n          36.8125,\n          48.75\n        ],\n        \"semantic_type\": \"\",\n        \"description\": \"\"\n      }\n    }\n  ]\n}"
            }
          },
          "metadata": {},
          "execution_count": 4
        }
      ]
    },
    {
      "cell_type": "code",
      "source": [
        "# Convertir 'Fecha_Venta' a tipo datetime\n",
        "df['Fecha_Venta'] = pd.to_datetime(df['Fecha_Venta'])\n",
        "\n",
        "# Crear una nueva columna 'Total_Venta'\n",
        "df['Total_Venta'] = df['Cantidad'] * df['Precio_Unitario']\n",
        "\n",
        "print(\"\\nDataFrame después de la limpieza y la creación de nueva columna:\")\n",
        "print(df.head())\n",
        "print(\"\\nInformación actualizada del DataFrame:\")\n",
        "df.info()"
      ],
      "metadata": {
        "colab": {
          "base_uri": "https://localhost:8080/"
        },
        "id": "iHwZzZL5UTO9",
        "outputId": "92f73b9b-ed8b-4d3f-dac6-42868aa3531b"
      },
      "execution_count": 5,
      "outputs": [
        {
          "output_type": "stream",
          "name": "stdout",
          "text": [
            "\n",
            "DataFrame después de la limpieza y la creación de nueva columna:\n",
            "   ID_Transaccion ID_Producto Nombre_Producto  Cantidad  Precio_Unitario  \\\n",
            "0            1001        P001          Camisa         2             25.5   \n",
            "1            1002        P002        Pantalón         1             45.0   \n",
            "2            1003        P001          Camisa         3             25.5   \n",
            "3            1004        P003         Zapatos         1             60.0   \n",
            "4            1005        P002        Pantalón         2             45.0   \n",
            "\n",
            "  Fecha_Venta       Pais    Metodo_Pago  Total_Venta  \n",
            "0  2024-01-05     España        Tarjeta         51.0  \n",
            "1  2024-01-05     España       Efectivo         45.0  \n",
            "2  2024-01-06     México        Tarjeta         76.5  \n",
            "3  2024-01-07  Argentina  Transferencia         60.0  \n",
            "4  2024-01-08      Chile        Tarjeta         90.0  \n",
            "\n",
            "Información actualizada del DataFrame:\n",
            "<class 'pandas.core.frame.DataFrame'>\n",
            "RangeIndex: 8 entries, 0 to 7\n",
            "Data columns (total 9 columns):\n",
            " #   Column           Non-Null Count  Dtype         \n",
            "---  ------           --------------  -----         \n",
            " 0   ID_Transaccion   8 non-null      int64         \n",
            " 1   ID_Producto      8 non-null      object        \n",
            " 2   Nombre_Producto  8 non-null      object        \n",
            " 3   Cantidad         8 non-null      int64         \n",
            " 4   Precio_Unitario  8 non-null      float64       \n",
            " 5   Fecha_Venta      8 non-null      datetime64[ns]\n",
            " 6   Pais             8 non-null      object        \n",
            " 7   Metodo_Pago      8 non-null      object        \n",
            " 8   Total_Venta      8 non-null      float64       \n",
            "dtypes: datetime64[ns](1), float64(2), int64(2), object(4)\n",
            "memory usage: 708.0+ bytes\n"
          ]
        }
      ]
    },
    {
      "cell_type": "code",
      "source": [
        "# Calcular el total de ventas por producto\n",
        "ventas_por_producto = df.groupby('Nombre_Producto')['Total_Venta'].sum().sort_values(ascending=False)\n",
        "\n",
        "print(\"Total de ingresos por producto (de mayor a menor):\")\n",
        "print(ventas_por_producto)\n",
        "\n",
        "# Visualización de los resultados\n",
        "plt.figure(figsize=(10, 6))\n",
        "sns.barplot(x=ventas_por_producto.index, y=ventas_por_producto.values, palette='viridis')\n",
        "plt.title('Ingresos Totales por Producto')\n",
        "plt.xlabel('Producto')\n",
        "plt.ylabel('Ingresos Totales')\n",
        "plt.xticks(rotation=45, ha='right') # Rotar etiquetas para mejor legibilidad\n",
        "plt.tight_layout() # Ajustar el diseño para que no se corten las etiquetas\n",
        "plt.show()"
      ],
      "metadata": {
        "colab": {
          "base_uri": "https://localhost:8080/",
          "height": 815
        },
        "id": "2M0YL74mVINm",
        "outputId": "1cfbd2f1-1134-4301-949c-c6c496d30b29"
      },
      "execution_count": 6,
      "outputs": [
        {
          "output_type": "stream",
          "name": "stdout",
          "text": [
            "Total de ingresos por producto (de mayor a menor):\n",
            "Nombre_Producto\n",
            "Camisa        153.0\n",
            "Pantalón      135.0\n",
            "Zapatos       120.0\n",
            "Calcetines     40.0\n",
            "Name: Total_Venta, dtype: float64\n"
          ]
        },
        {
          "output_type": "stream",
          "name": "stderr",
          "text": [
            "/tmp/ipython-input-6-3944288276.py:9: FutureWarning: \n",
            "\n",
            "Passing `palette` without assigning `hue` is deprecated and will be removed in v0.14.0. Assign the `x` variable to `hue` and set `legend=False` for the same effect.\n",
            "\n",
            "  sns.barplot(x=ventas_por_producto.index, y=ventas_por_producto.values, palette='viridis')\n"
          ]
        },
        {
          "output_type": "display_data",
          "data": {
            "text/plain": [
              "<Figure size 1000x600 with 1 Axes>"
            ],
            "image/png": "[encoded data removed]"
          },
          "metadata": {}
        }
      ]
    },
    {
      "cell_type": "code",
      "source": [
        "# Calcular el total de ventas por país\n",
        "ventas_por_pais = df.groupby('Pais')['Total_Venta'].sum().sort_values(ascending=False)\n",
        "\n",
        "print(\"\\nTotal de ingresos por país (de mayor a menor):\")\n",
        "print(ventas_por_pais)\n",
        "\n",
        "# Visualización de los resultados\n",
        "plt.figure(figsize=(8, 5))\n",
        "sns.barplot(x=ventas_por_pais.index, y=ventas_por_pais.values, palette='coolwarm')\n",
        "plt.title('Ingresos Totales por País')\n",
        "plt.xlabel('País')\n",
        "plt.ylabel('Ingresos Totales')\n",
        "plt.xticks(rotation=45, ha='right')\n",
        "plt.tight_layout()\n",
        "plt.show()"
      ],
      "metadata": {
        "colab": {
          "base_uri": "https://localhost:8080/",
          "height": 733
        },
        "id": "5H7ZRnEPXD2M",
        "outputId": "e373efd9-a49c-4d99-c20a-1128959abe5d"
      },
      "execution_count": 7,
      "outputs": [
        {
          "output_type": "stream",
          "name": "stdout",
          "text": [
            "\n",
            "Total de ingresos por país (de mayor a menor):\n",
            "Pais\n",
            "España       136.0\n",
            "Argentina    120.0\n",
            "México       102.0\n",
            "Chile         90.0\n",
            "Name: Total_Venta, dtype: float64\n"
          ]
        },
        {
          "output_type": "stream",
          "name": "stderr",
          "text": [
            "/tmp/ipython-input-7-3375267151.py:9: FutureWarning: \n",
            "\n",
            "Passing `palette` without assigning `hue` is deprecated and will be removed in v0.14.0. Assign the `x` variable to `hue` and set `legend=False` for the same effect.\n",
            "\n",
            "  sns.barplot(x=ventas_por_pais.index, y=ventas_por_pais.values, palette='coolwarm')\n"
          ]
        },
        {
          "output_type": "display_data",
          "data": {
            "text/plain": [
              "<Figure size 800x500 with 1 Axes>"
            ],
            "image/png": "[encoded data removed]"
          },
          "metadata": {}
        }
      ]
    },
    {
      "cell_type": "code",
      "source": [
        "# Contar la frecuencia de cada método de pago\n",
        "conteo_metodos_pago = df['Metodo_Pago'].value_counts()\n",
        "\n",
        "print(\"\\nFrecuencia de Métodos de Pago:\")\n",
        "print(conteo_metodos_pago)\n",
        "\n",
        "# Visualización de los resultados con un gráfico de barras\n",
        "plt.figure(figsize=(7, 5))\n",
        "sns.barplot(x=conteo_metodos_pago.index, y=conteo_metodos_pago.values, palette='plasma')\n",
        "plt.title('Distribución de Métodos de Pago')\n",
        "plt.xlabel('Método de Pago')\n",
        "plt.ylabel('Número de Transacciones')\n",
        "plt.tight_layout()\n",
        "plt.show()"
      ],
      "metadata": {
        "colab": {
          "base_uri": "https://localhost:8080/",
          "height": 715
        },
        "id": "deNuF6BGXt3Y",
        "outputId": "151767a8-ea90-4c80-d6d5-24eeb91c2e78"
      },
      "execution_count": 8,
      "outputs": [
        {
          "output_type": "stream",
          "name": "stdout",
          "text": [
            "\n",
            "Frecuencia de Métodos de Pago:\n",
            "Metodo_Pago\n",
            "Tarjeta          4\n",
            "Efectivo         2\n",
            "Transferencia    2\n",
            "Name: count, dtype: int64\n"
          ]
        },
        {
          "output_type": "stream",
          "name": "stderr",
          "text": [
            "/tmp/ipython-input-8-1956435393.py:9: FutureWarning: \n",
            "\n",
            "Passing `palette` without assigning `hue` is deprecated and will be removed in v0.14.0. Assign the `x` variable to `hue` and set `legend=False` for the same effect.\n",
            "\n",
            "  sns.barplot(x=conteo_metodos_pago.index, y=conteo_metodos_pago.values, palette='plasma')\n"
          ]
        },
        {
          "output_type": "display_data",
          "data": {
            "text/plain": [
              "<Figure size 700x500 with 1 Axes>"
            ],
            "image/png": "[encoded data removed]"
          },
          "metadata": {}
        }
      ]
    },
    {
      "cell_type": "code",
      "source": [
        "# Calcular el valor promedio de una transacción\n",
        "valor_promedio_transaccion = df['Total_Venta'].mean()\n",
        "\n",
        "print(f\"\\nEl valor promedio de una transacción es: {valor_promedio_transaccion:.2f}\")\n",
        "\n",
        "# Opcional: Visualización simple del valor promedio (esto es más para mostrar un número que una distribución)\n",
        "# Podríamos usar un histograma si tuviéramos más datos para ver la distribución de los totales de venta\n",
        "# Pero para un solo número, una visualización de un solo punto no es muy informativa.\n",
        "# Sin embargo, podemos usar un gráfico de dispersión o una línea si queremos ser creativos.\n",
        "# Para este caso, un texto claro es suficiente, o un gráfico de barras simple con una sola barra.\n",
        "\n",
        "# Visualización:\n",
        "plt.figure(figsize=(4, 6))\n",
        "plt.bar(['Valor Promedio'], [valor_promedio_transaccion], color='skyblue')\n",
        "plt.title('Valor Promedio de una Transacción')\n",
        "plt.ylabel('Valor (€)')\n",
        "plt.ylim(0, valor_promedio_transaccion * 1.2) # Ajustar límite y para que se vea bien\n",
        "plt.text(0, valor_promedio_transaccion + 5, f'{valor_promedio_transaccion:.2f}', ha='center', va='bottom', fontsize=12)\n",
        "plt.show()"
      ],
      "metadata": {
        "colab": {
          "base_uri": "https://localhost:8080/",
          "height": 580
        },
        "id": "irhhpJrRYMwc",
        "outputId": "fe2f79b8-8116-48e8-d446-d1a5d86655ff"
      },
      "execution_count": 9,
      "outputs": [
        {
          "output_type": "stream",
          "name": "stdout",
          "text": [
            "\n",
            "El valor promedio de una transacción es: 56.00\n"
          ]
        },
        {
          "output_type": "display_data",
          "data": {
            "text/plain": [
              "<Figure size 400x600 with 1 Axes>"
            ],
            "image/png": "[encoded data removed]"
          },
          "metadata": {}
        }
      ]
    }
  ]
}